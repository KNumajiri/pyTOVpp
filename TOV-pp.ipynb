{
 "cells": [
  {
   "cell_type": "markdown",
   "metadata": {},
   "source": [
    "\n",
    "**TOV Stars with Piecewise Polytropic equation of state**\n",
    "\n",
    "N. Stergioulas\n",
    "\n",
    "Aristotle University of Thessaloniki\n",
    "\n",
    "v1.0 (June 2018)\n",
    "\n",
    "###### Content provided under a Creative Commons Attribution license, [CC BY-NC-SA 4.0](https://creativecommons.org/licenses/by-nc-sa/4.0/); code under [GNU GPLv3 License](https://choosealicense.com/licenses/gpl-3.0/). (c)2018 [Nikolaos Stergioulas](http://www.astro.auth.gr/~niksterg/)\n"
   ]
  },
  {
   "cell_type": "code",
   "execution_count": 1,
   "metadata": {
    "collapsed": false
   },
   "outputs": [],
   "source": [
    "from __future__ import print_function, division\n",
    "import numpy as np\n",
    "import matplotlib.pyplot as plt\n",
    "%matplotlib inline\n",
    "import scipy as sp\n",
    "from scipy import integrate\n",
    "from scipy import optimize\n",
    "from scipy.interpolate import PchipInterpolator\n",
    "import sys\n",
    "from decimal import Decimal\n",
    "import warnings\n",
    "if not sys.warnoptions:\n",
    "    warnings.simplefilter(\"ignore\")\n",
    "from IPython.display import Image"
   ]
  },
  {
   "cell_type": "markdown",
   "metadata": {},
   "source": [
    "# The TOV equations for spherical stars"
   ]
  },
  {
   "cell_type": "markdown",
   "metadata": {},
   "source": [
    "Consider the metric for a spherically symmetric, stationary and asymptotic spacetime in Schwarzshild coordinates $t, r, \\theta, \\phi$\n",
    "$$ ds^2 = -e^{\\nu}dt^2 +e^{\\lambda}dr^2 + r^2(d\\theta^2+\\sin^2\\theta d\\phi^2)$$\n",
    "The TOV system in units $c=G=1$ is\n",
    "$$ P = P(\\epsilon),$$\n",
    "$$ \\frac{dP}{dr} = -\\frac{(\\epsilon+P)(m+4\\pi r^3P)}{r(r-2m)},$$\n",
    "$$ \\frac{dm}{dr} = 4\\pi r^2 \\epsilon$$\n",
    "$$ \\frac{d\\nu}{dr} = -\\frac{2}{\\epsilon+P}\\frac{dP}{dr}=\\frac{2(m+4\\pi r^3P)}{r(r-2m)},$$\n",
    "$$ \\lambda = -\\ln\\left(1-\\frac{2m}{r}\\right),$$\n",
    "The central values are\n",
    "$$ P(0) = P_c,$$\n",
    "$$ m(0) = 0,$$\n",
    "$$ \\nu(0) = -1.$$\n",
    "where the last choice is arbitrary (after the interior solution is obtained, $\\nu$ will be shifted to match the Schwarzschild exterior solution at the surface).\n",
    "\n",
    "Near the center, we do a series expansion \n",
    "$$P(r) \\simeq P_c -(2\\pi)(\\epsilon_c+P_c) \\left( P_c+\\frac{1}{3}\\epsilon_c \\right) r^2 + O(r^4),$$\n",
    "$$ m(r) \\simeq \\frac{4}{3}\\pi\\epsilon_cr^3 + O(r^4),$$\n",
    "$$ \\nu(r) \\simeq \\nu_c + 4\\pi \\left(P_c+ \\frac{1}{3}\\epsilon_c \\right)r^2 + O(r^4).$$\n",
    "The value of $\\nu$ at the surface is \n",
    "$$ \\nu_\\star = -\\lambda_\\star = \\ln\\left(1-\\frac{2M}{R}\\right).$$\n",
    "The gravitational mass can be obtained as \n",
    "$$ M = \\int_0^R 4\\pi r^2\\epsilon dr,$$\n",
    "or as\n",
    "$$ M = \\int_0^R 4\\pi r^2 e^{(\\nu+\\lambda)/2}(\\epsilon +3P)dr,$$\n",
    "The baryon mass of the star is\n",
    "$$ M_0 = \\int_0^R 4\\pi r^2 e^{\\lambda/2}\\rho dr. $$\n"
   ]
  },
  {
   "cell_type": "markdown",
   "metadata": {},
   "source": [
    "# Piecewise Polytropic equation of state"
   ]
  },
  {
   "cell_type": "markdown",
   "metadata": {},
   "source": [
    "Following [Read et al 2009](https://ui.adsabs.harvard.edu/#abs/2009PhRvD..79l4033R/abstract) a piecewise polytropic EOS is defined by a low-density $\\rho <\\rho_0$ part (which can be a tabulated crust EOS or its piecewise polytropic analytic approximation) and a high-density part, $\\rho \\geq \\rho_0$. The matching density $\\rho_0$ is defined by the crossing point between the low-density part and the first high-density piece. The other two dividing densities in the high-density region are fixed as $\\rho_1 = 10^{14.7}{\\rm g/cm^3}$ and  $\\rho_2= 10^{15.0}{\\rm g/cm^3}$.\n",
    "\n",
    "The pressure and density satisfy in each density interval $\\rho_{i-1} \\leq \\rho \\leq \\rho_i$ the polytropic relation: \n",
    "$$P = K_i\\rho^{\\Gamma_i}$$\n",
    "are are required to be everywhere continuous. This means that at a dividing density $\\rho_i$\n",
    "$$P(\\rho_i) = K_i\\rho^{\\Gamma_i} = K_{i+1}\\rho^{\\Gamma_{i+1}}$$\n",
    "which determines $K_2$ and $K_3$ for chosen $K_1, \\Gamma_1, \\Gamma_2, \\Gamma_3$ (equivalently, for given $p_1, \\Gamma_2, \\Gamma_3$).\n",
    "\n",
    "Integrating the first law of thermodynamics for barotropic fluids\n",
    "$$ d\\frac{\\epsilon}{\\rho} = - P d\\frac{1}{\\rho}$$\n",
    "and requiring continuity in the energy density, yields:\n",
    "$$\\epsilon(\\rho) = (1+\\alpha_i)\\rho + \\frac{K_i}{\\Gamma_i-1}\\rho^{\\Gamma_i}$$\n",
    "(as long as $\\Gamma_i \\neq 1$),where\n",
    "$$\\alpha_i = \\frac{\\epsilon(\\rho_{i-1})}{\\rho_{i-1}} -1 - \\frac{K_i}{\\Gamma_i-1}\\rho_{i-1}^{\\Gamma_i-1}$$\n",
    "Furthermore, the specific enthalpy $h:=(\\epsilon+P)/\\rho$, velocity of sound $v_s =\\sqrt{dP/d\\epsilon}$ and internal energy $e:=\\epsilon/\\rho-1$ are:\n",
    "$$h(\\rho) = 1+a_i + \\frac{\\Gamma_i}{\\Gamma_i-1}K_i\\rho^{\\Gamma_i}$$\n",
    "$$v_s(\\rho) = \\sqrt{\\frac{\\Gamma_i P}{\\epsilon+P}}$$\n",
    "$$ e(\\rho) = \\alpha_i + \\frac{K_i}{\\Gamma_i-1}\\rho^{\\Gamma_i-1}$$\n",
    "\n",
    "In the numerical implementation, we use a length scale of $M_\\odot =1$. For the output, units are also converted to CGS."
   ]
  },
  {
   "cell_type": "markdown",
   "metadata": {},
   "source": [
    "<img src=\"pp-eos.png\" alt=\"drawing\" width=\"400px\"/>\n"
   ]
  },
  {
   "cell_type": "markdown",
   "metadata": {},
   "source": [
    "# Numerical implementation"
   ]
  },
  {
   "cell_type": "markdown",
   "metadata": {},
   "source": [
    "## Define the equation of state"
   ]
  },
  {
   "cell_type": "code",
   "execution_count": 2,
   "metadata": {
    "collapsed": false
   },
   "outputs": [],
   "source": [
    "c=2.9979e10\n",
    "G=6.67408e-8\n",
    "Msun=1.989e33\n",
    "Length = G*Msun/c**2\n",
    "Time = Length/c\n",
    "Density = Msun/Length**3"
   ]
  },
  {
   "cell_type": "markdown",
   "metadata": {},
   "source": [
    "Define the dividing densities for the high-density part"
   ]
  },
  {
   "cell_type": "code",
   "execution_count": 3,
   "metadata": {
    "collapsed": false
   },
   "outputs": [],
   "source": [
    "rho1 = pow(10,14.7)/Density\n",
    "rho2 = pow(10,15.0)/Density"
   ]
  },
  {
   "cell_type": "markdown",
   "metadata": {},
   "source": [
    "Set $p_1, \\Gamma_1, \\Gamma_2, \\Gamma_3$ for EOS"
   ]
  },
  {
   "cell_type": "code",
   "execution_count": 4,
   "metadata": {
    "collapsed": false
   },
   "outputs": [],
   "source": [
    "#SLy\n",
    "#p1 = pow(10.0,34.384)/Density/c**2\n",
    "#Gamma1 = 3.005\n",
    "#Gamma2 = 2.988\n",
    "#Gamma3 = 2.851"
   ]
  },
  {
   "cell_type": "code",
   "execution_count": 5,
   "metadata": {
    "collapsed": true
   },
   "outputs": [],
   "source": [
    "#H4\n",
    "p1 = pow(10.0,34.669)/Density/c**2\n",
    "Gamma1 = 2.909\n",
    "Gamma2 = 2.246\n",
    "Gamma3 = 2.144"
   ]
  },
  {
   "cell_type": "markdown",
   "metadata": {},
   "source": [
    "Find $K_1, K_2, K_3$"
   ]
  },
  {
   "cell_type": "code",
   "execution_count": 6,
   "metadata": {
    "collapsed": false
   },
   "outputs": [],
   "source": [
    "K1 = p1 / pow(rho1,Gamma1)\n",
    "K2 = K1 * pow( rho1, Gamma1-Gamma2)\n",
    "K3 = K2 * pow( rho2, Gamma2-Gamma3)"
   ]
  },
  {
   "cell_type": "markdown",
   "metadata": {},
   "source": [
    "Low-density part (PP approximation to low-density SLy EOS in [Read et al 2009](https://ui.adsabs.harvard.edu/#abs/2009PhRvD..79l4033R/abstract))"
   ]
  },
  {
   "cell_type": "code",
   "execution_count": 7,
   "metadata": {
    "collapsed": false
   },
   "outputs": [],
   "source": [
    "rhoL_1 = 2.62789e12/Density\n",
    "rhoL_2 = 3.78358e11/Density\n",
    "rhoL_3 = 2.44034e7/Density\n",
    "rhoL_4 = 0.0\n",
    "#display(rhoL_1,rhoL_2,rhoL_3,rhoL_4)"
   ]
  },
  {
   "cell_type": "code",
   "execution_count": 8,
   "metadata": {
    "collapsed": true
   },
   "outputs": [],
   "source": [
    "GammaL_1 = 1.35692\n",
    "GammaL_2 = 0.62223\n",
    "GammaL_3 = 1.28733\n",
    "GammaL_4 = 1.58425"
   ]
  },
  {
   "cell_type": "code",
   "execution_count": 9,
   "metadata": {
    "collapsed": false
   },
   "outputs": [],
   "source": [
    "KL_1 = 3.99874e-8 * pow(Msun/Length**3, GammaL_1-1)  # notice a missing c^2 in Ki values in Table II of Read et al. 2009\n",
    "KL_2 = 5.32697e+1 * pow(Msun/Length**3, GammaL_2-1) \n",
    "KL_3 = 1.06186e-6 * pow(Msun/Length**3, GammaL_3-1)  \n",
    "KL_4 = 6.80110e-9 * pow(Msun/Length**3, GammaL_4-1)  \n",
    "#display(KL_1, KL_2, KL_3, KL_4)"
   ]
  },
  {
   "cell_type": "code",
   "execution_count": 10,
   "metadata": {
    "collapsed": false
   },
   "outputs": [],
   "source": [
    "epsL_4 = 0.0\n",
    "alphaL_4 = 0.0\n",
    "epsL_3 = (1+alphaL_4)*rhoL_3 + KL_4/(GammaL_4 - 1)*pow(rhoL_3, GammaL_4)\n",
    "alphaL_3 = epsL_3/rhoL_3 - 1 - KL_3/(GammaL_3 - 1)*pow(rhoL_3, GammaL_3 -1)\n",
    "epsL_2 = (1+alphaL_3)*rhoL_2 + KL_3/(GammaL_3 - 1)*pow(rhoL_2, GammaL_3)\n",
    "alphaL_2 = epsL_2/rhoL_2 - 1 - KL_2/(GammaL_2 - 1)*pow(rhoL_2, GammaL_2 -1)\n",
    "epsL_1 = (1+alphaL_2)*rhoL_1 + KL_2/(GammaL_2 - 1)*pow(rhoL_1, GammaL_2)\n",
    "alphaL_1 = epsL_1/rhoL_1 - 1 - KL_1/(GammaL_1 - 1)*pow(rhoL_1, GammaL_1 -1)"
   ]
  },
  {
   "cell_type": "code",
   "execution_count": 11,
   "metadata": {
    "collapsed": false
   },
   "outputs": [],
   "source": [
    "rho0 = pow(KL_1/K1,1.0/(Gamma1-GammaL_1))\n",
    "eps0 = (1.0+alphaL_1)*rho0 + KL_1/(GammaL_1-1.0)*pow(rho0,GammaL_1)"
   ]
  },
  {
   "cell_type": "code",
   "execution_count": 12,
   "metadata": {
    "collapsed": true
   },
   "outputs": [],
   "source": [
    "alpha1 = eps0/rho0 - 1 - K1/(Gamma1 - 1)*pow(rho0, Gamma1 -1)\n",
    "eps1 = (1+alpha1)*rho1 + K1/(Gamma1 - 1)*pow(rho1, Gamma1)\n",
    "alpha2 = eps1/rho1 - 1 - K2/(Gamma2 - 1)*pow(rho1, Gamma2 -1)\n",
    "eps2 = (1+alpha2)*rho2 + K2/(Gamma2 - 1)*pow(rho2, Gamma2)\n",
    "alpha3 = eps2/rho2 - 1 - K3/(Gamma3 - 1)*pow(rho2, Gamma3 -1)"
   ]
  },
  {
   "cell_type": "code",
   "execution_count": 13,
   "metadata": {
    "collapsed": true
   },
   "outputs": [],
   "source": [
    "args = (rhoL_3,rhoL_2,rhoL_1,rho0,rho1,rho2,KL_4,KL_3,KL_2,KL_1,K1,K2,K3,\\\n",
    "        GammaL_4,GammaL_3,GammaL_2,GammaL_1,Gamma1,Gamma2,Gamma3)"
   ]
  },
  {
   "cell_type": "code",
   "execution_count": 14,
   "metadata": {
    "collapsed": true
   },
   "outputs": [],
   "source": [
    "def P_of_rho(rho, args):\n",
    "    rhoL_3,rhoL_2,rhoL_1,rho0,rho1,rho2,KL_4,KL_3,KL_2,\\\n",
    "    KL_1,K1,K2,K3,GammaL_4,GammaL_3,GammaL_2,GammaL_1,Gamma1,Gamma2,Gamma3 = args\n",
    "    if rho<rhoL_3:\n",
    "        return KL_4*pow(rho,GammaL_4)\n",
    "    elif rhoL_3<= rho <rhoL_2:\n",
    "        return KL_3*pow(rho,GammaL_3)\n",
    "    elif rhoL_2<= rho <rhoL_1:\n",
    "        return KL_2*pow(rho,GammaL_2)\n",
    "    elif rhoL_1<= rho <rho0:\n",
    "        return KL_1*pow(rho,GammaL_1)\n",
    "    elif rho0<= rho <rho1:\n",
    "        return K1*pow(rho,Gamma1)\n",
    "    elif rho1<= rho <rho2:\n",
    "        return K2*pow(rho,Gamma2)\n",
    "    else:\n",
    "        return K3*pow(rho,Gamma3)"
   ]
  },
  {
   "cell_type": "code",
   "execution_count": 15,
   "metadata": {
    "collapsed": true
   },
   "outputs": [],
   "source": [
    "def rho_of_P(p, args):\n",
    "    rhoL_3,rhoL_2,rhoL_1,rho0,rho1,rho2,KL_4,KL_3,KL_2,\\\n",
    "    KL_1,K1,K2,K3,GammaL_4,GammaL_3,GammaL_2,GammaL_1,Gamma1,Gamma2,Gamma3 = args\n",
    "    if p<pL_3:\n",
    "        return pow(p/KL_4, 1.0/GammaL_4)\n",
    "    elif pL_3<= p <pL_2:\n",
    "        return pow(p/KL_3, 1.0/GammaL_3)\n",
    "    elif pL_2<= p <pL_1:\n",
    "        return pow(p/KL_2, 1.0/GammaL_2)\n",
    "    elif pL_1<= p <p0:\n",
    "        return pow(p/KL_1, 1.0/GammaL_1)\n",
    "    elif p0<= p <p1:\n",
    "        return pow(p/K1, 1.0/Gamma1)\n",
    "    elif p1<= p <p2:\n",
    "        return pow(p/K2, 1.0/Gamma2)\n",
    "    else:\n",
    "        return pow(p/K3, 1.0/Gamma3)"
   ]
  },
  {
   "cell_type": "code",
   "execution_count": 16,
   "metadata": {
    "collapsed": false
   },
   "outputs": [],
   "source": [
    "pL_3 = KL_3*pow(rhoL_3,GammaL_3)\n",
    "pL_2 = KL_2*pow(rhoL_2,GammaL_2)\n",
    "pL_1 = KL_1*pow(rhoL_1,GammaL_1)\n",
    "p0 = KL_1*pow(rho0,GammaL_1)\n",
    "p2 = K2*pow(rho2,Gamma2)\n",
    "args2 = (rhoL_3,rhoL_2,rhoL_1,rho0,rho1,rho2,KL_4,KL_3,KL_2,KL_1,K1,K2,K3,\\\n",
    "        GammaL_4,GammaL_3,GammaL_2,GammaL_1,Gamma1,Gamma2,Gamma3,\\\n",
    "        pL_3,pL_2, pL_1, p0, p1, p2,\\\n",
    "        alphaL_4, alphaL_3, alphaL_2, alphaL_1, alpha1, alpha2, alpha3)"
   ]
  },
  {
   "cell_type": "code",
   "execution_count": 17,
   "metadata": {
    "collapsed": true
   },
   "outputs": [],
   "source": [
    "def eps_of_rho(rho, args2):\n",
    "    rhoL_3,rhoL_2,rhoL_1,rho0,rho1,rho2,KL_4,KL_3,KL_2,KL_1,K1,K2,K3,\\\n",
    "    GammaL_4,GammaL_3,GammaL_2,GammaL_1,Gamma1,Gamma2,Gamma3,\\\n",
    "    pL_3,pL_2, pL_1, p0, p1, p2,\\\n",
    "    alphaL_4, alphaL_3, alphaL_2, alphaL_1, alpha1, alpha2, alpha3 = args2\n",
    "    if rho<rhoL_3:\n",
    "        return (1.0+alphaL_4)*rho + KL_4/(GammaL_4-1.0)*pow(rho,GammaL_4)\n",
    "    elif rhoL_3<= rho <rhoL_2:\n",
    "        return (1.0+alphaL_3)*rho + KL_3/(GammaL_3-1.0)*pow(rho,GammaL_3)\n",
    "    elif rhoL_2<= rho <rhoL_1:\n",
    "        return (1.0+alphaL_2)*rho + KL_2/(GammaL_2-1.0)*pow(rho,GammaL_2)\n",
    "    elif rhoL_1<= rho <rho0:\n",
    "        return (1.0+alphaL_1)*rho + KL_1/(GammaL_1-1.0)*pow(rho,GammaL_1)\n",
    "    elif rho0<= rho <rho1:\n",
    "        return (1.0+alpha1)*rho + K1/(Gamma1-1.0)*pow(rho,Gamma1)\n",
    "    elif rho1<= rho <rho2:\n",
    "        return (1.0+alpha2)*rho + K2/(Gamma2-1.0)*pow(rho,Gamma2)\n",
    "    else:\n",
    "        return (1.0+alpha3)*rho + K3/(Gamma3-1.0)*pow(rho,Gamma3)"
   ]
  },
  {
   "cell_type": "code",
   "execution_count": 18,
   "metadata": {
    "collapsed": true
   },
   "outputs": [],
   "source": [
    "def eps_of_P(p, args2):\n",
    "    rhoL_3,rhoL_2,rhoL_1,rho0,rho1,rho2,KL_4,KL_3,KL_2,KL_1,K1,K2,K3,\\\n",
    "    GammaL_4,GammaL_3,GammaL_2,GammaL_1,Gamma1,Gamma2,Gamma3,\\\n",
    "    pL_3,pL_2, pL_1, p0, p1, p2,\\\n",
    "    alphaL_4, alphaL_3, alphaL_2, alphaL_1, alpha1, alpha2, alpha3 = args2    \n",
    "    if p<pL_3:\n",
    "        return (1.0+alphaL_4)*pow(p/KL_4, 1.0/GammaL_4)+ p/(GammaL_4-1)\n",
    "    elif pL_3<= p <pL_2:\n",
    "        return (1.0+alphaL_3)*pow(p/KL_3, 1.0/GammaL_3)+ p/(GammaL_3-1)\n",
    "    elif pL_2<= p <pL_1:\n",
    "        return (1.0+alphaL_2)*pow(p/KL_2, 1.0/GammaL_2)+ p/(GammaL_2-1)\n",
    "    elif pL_1<= p <p0:\n",
    "        return (1.0+alphaL_1)*pow(p/KL_1, 1.0/GammaL_1)+ p/(GammaL_1-1)\n",
    "    elif p0<= p <p1:\n",
    "        return (1.0+alpha1)*pow(p/K1, 1.0/Gamma1)+ p/(Gamma1-1)\n",
    "    elif p1<= p <p2:\n",
    "        return (1.0+alpha2)*pow(p/K2, 1.0/Gamma2)+ p/(Gamma2-1)\n",
    "    else:\n",
    "        return (1.0+alpha3)*pow(p/K3, 1.0/Gamma3)+ p/(Gamma3-1)"
   ]
  },
  {
   "cell_type": "code",
   "execution_count": 19,
   "metadata": {
    "collapsed": true
   },
   "outputs": [],
   "source": [
    "logrhopoints = np.arange(np.log10(1e5/Density),np.log10(10*rho2),0.1)\n",
    "eospoints = len(logrhopoints)\n",
    "logrhopointsCGS = logrhopoints + np.log10(Density)"
   ]
  },
  {
   "cell_type": "code",
   "execution_count": 20,
   "metadata": {
    "collapsed": false
   },
   "outputs": [],
   "source": [
    "logPpointsCGS = np.zeros(eospoints)\n",
    "for i in range(0,eospoints):\n",
    "    logPpointsCGS[i] = np.log10(Density*c**2*P_of_rho( pow(10.0,logrhopoints[i]), args))"
   ]
  },
  {
   "cell_type": "code",
   "execution_count": 21,
   "metadata": {
    "collapsed": false
   },
   "outputs": [
    {
     "data": {
      "image/png": "[encoded data removed]",
      "text/plain": [
       "<matplotlib.figure.Figure at 0x114499f60>"
      ]
     },
     "metadata": {},
     "output_type": "display_data"
    }
   ],
   "source": [
    "plt.xlim(logrhopointsCGS[0], logrhopointsCGS[eospoints-1])\n",
    "plt.ylim(20, 40)\n",
    "plt.xlabel(r'$ \\log_{10} (\\rho \\ {\\rm in \\ g/cm^3} )$')\n",
    "plt.ylabel(r'$ \\log_{10} (P \\ {\\rm in \\ dyne/cm^2} )$')\n",
    "plt.plot(logrhopointsCGS, logPpointsCGS)\n",
    "xcoords = [np.log10(rhoL_4*Density), np.log10(rhoL_3*Density), np.log10(rhoL_2*Density), \n",
    "          np.log10(rhoL_1*Density), np.log10(rho0*Density), np.log10(rho1*Density), np.log10(rho2*Density)]\n",
    "for xc in xcoords:\n",
    "    plt.axvline(x=xc, color='black')"
   ]
  },
  {
   "cell_type": "markdown",
   "metadata": {},
   "source": [
    "## Choose the central density and find the central pressure"
   ]
  },
  {
   "cell_type": "code",
   "execution_count": 22,
   "metadata": {
    "collapsed": false
   },
   "outputs": [
    {
     "data": {
      "text/plain": [
       "0.0009558570537800262"
      ]
     },
     "metadata": {},
     "output_type": "display_data"
    },
    {
     "data": {
      "text/plain": [
       "0.0016200967013220782"
      ]
     },
     "metadata": {},
     "output_type": "display_data"
    },
    {
     "data": {
      "text/plain": [
       "590000000000000.0"
      ]
     },
     "metadata": {},
     "output_type": "display_data"
    },
    {
     "data": {
      "text/plain": [
       "642705828996892.2"
      ]
     },
     "metadata": {},
     "output_type": "display_data"
    }
   ],
   "source": [
    "#rho_c = 1.444e-3\n",
    "#rho_c = 1.5*rho1\n",
    "#9.92770e+14\n",
    "rho_c = 5.9e+14/Density\n",
    "eps_c = eps_of_rho(rho_c, args2)\n",
    "P_c = P_of_rho(rho_c, args)\n",
    "\n",
    "display(rho_c, rho2)\n",
    "display(rho_c*Density, eps_c*Density)"
   ]
  },
  {
   "cell_type": "markdown",
   "metadata": {},
   "source": [
    "## Define the system of ODEs to be solved"
   ]
  },
  {
   "cell_type": "markdown",
   "metadata": {},
   "source": [
    "Define the system $ f(r, {\\mathbf y} (r))$ of differential equations to be solved:\n",
    "$$ f(r, {\\mathbf y} (r)) = \\frac{d}{dr} \\begin{bmatrix} y_0(r)\\\\ y_1(r) \\\\ y_2(r) \\end{bmatrix}\n",
    "  = \\frac{d}{dr} \\begin{bmatrix} P(r)\\\\ m(r) \\\\ \\nu(r) \\end{bmatrix} = \n",
    "  \\begin{bmatrix} -\\frac{(\\epsilon+P)(m+4\\pi r^3P)}{r(r-2m)} \\\\  \n",
    "                  4\\pi r^2 \\epsilon \\\\\n",
    "                  \\frac{2(m+4\\pi r^3P)}{r(r-2m)} \n",
    "                  \\end{bmatrix}$$"
   ]
  },
  {
   "cell_type": "code",
   "execution_count": 23,
   "metadata": {
    "collapsed": true
   },
   "outputs": [],
   "source": [
    "def f(r, y, args2):\n",
    "    rhoL_3,rhoL_2,rhoL_1,rho0,rho1,rho2,KL_4,KL_3,KL_2,KL_1,K1,K2,K3,\\\n",
    "    GammaL_4,GammaL_3,GammaL_2,GammaL_1,Gamma1,Gamma2,Gamma3,\\\n",
    "    pL_3,pL_2, pL_1, p0, p1, p2,\\\n",
    "    alphaL_4, alphaL_3, alphaL_2, alphaL_1, alpha1, alpha2, alpha3 = args2\n",
    "    \n",
    "    eps = eps_of_P(y[0], args2) \n",
    "    \n",
    "    return [ -( eps + y[0] )*( y[1] + 4.0*np.pi*pow(r,3.0)*y[0] )/( r*(r-2.0*y[1]) ), \n",
    "            \n",
    "             4*np.pi*pow(r,2.0)*eps,\n",
    "            \n",
    "             2.0*( y[1] + 4.0*np.pi*pow(r,3.0)*y[0] )/( r*(r-2.0*y[1]) ) \n",
    "           ]"
   ]
  },
  {
   "cell_type": "markdown",
   "metadata": {},
   "source": [
    "## Set the central value of $\\nu_c$ and the starting values for the system of ODEs:"
   ]
  },
  {
   "cell_type": "code",
   "execution_count": 24,
   "metadata": {
    "collapsed": true
   },
   "outputs": [],
   "source": [
    "# set an arbitrary starting value for nu at the center\n",
    "nu_c = -1.0\n",
    "\n",
    "# set a safe max r, based on 4x radius of 1 Msun uniform density Newt. model\n",
    "r_max = 4.0 * pow( 3.0/(4.0*np.pi*eps_c), 1.0/3.0)\n",
    "\n",
    "# create an equidistant array of values for r\n",
    "Npoints = (51, 101, 201, 401, 801, 1601,  3201, 6401, 12801, 25601, 51201)\n",
    "#N = 25601\n",
    "N = 801\n",
    "r = np.linspace(0.0, r_max, N)\n",
    "dr = r[1] - r[0]\n",
    "\n",
    "# compute P, m, nu at r=dr by Taylor expansion\n",
    "P_1 =  P_c - (2.0*np.pi)*(eps_c+P_c)*(P_c+(1.0/3.0)*eps_c)*pow(dr,2.0)\n",
    "m_1 =  (4.0/3.0)*np.pi*eps_c*pow(dr, 3.0)\n",
    "nu_1 = nu_c + 4.0*np.pi*(P_c+(1.0/3.0)*eps_c)*pow(dr,2.0)\n",
    "\n",
    "# set starting values at r=dr for numerical integration\n",
    "y0 = [P_1, m_1, nu_1]\n"
   ]
  },
  {
   "cell_type": "markdown",
   "metadata": {},
   "source": [
    "## Numerical solution"
   ]
  },
  {
   "cell_type": "markdown",
   "metadata": {},
   "source": [
    "Define an instant of the numerical solution of the ODE system"
   ]
  },
  {
   "cell_type": "code",
   "execution_count": 25,
   "metadata": {
    "collapsed": false
   },
   "outputs": [],
   "source": [
    "\n",
    "solve = integrate.ode(f)\n",
    "solve.set_integrator('lsoda', rtol=1e-12, atol=1e-50,ixpr=True);\n",
    "solve.set_initial_value(y0, dr);\n",
    "solve.set_f_params(args2);\n"
   ]
  },
  {
   "cell_type": "markdown",
   "metadata": {},
   "source": [
    "Integrate from starting point to the surface (where $P=0$):"
   ]
  },
  {
   "cell_type": "code",
   "execution_count": 26,
   "metadata": {
    "collapsed": false
   },
   "outputs": [],
   "source": [
    "# create the solution vector\n",
    "y = np.zeros((len(r), len(y0)))\n",
    "\n",
    "# fill the solution vector with the values at the center\n",
    "y[0,:] = [P_c, 0.0, nu_c]\n",
    "\n",
    "# initialize counter\n",
    "idx = 1\n",
    "\n",
    "# integrate repeatedly to next grid point until P becomes zero\n",
    "while solve.successful() and solve.t < r[-1] and solve.y[0]>0.0:\n",
    "    \n",
    "      y[idx, :] = solve.y\n",
    "      solve.integrate(solve.t + dr)\n",
    "      idx += 1\n",
    "\n",
    "# last grid point with positive pressure\n",
    "idxlast = idx-1 \n",
    "\n",
    "# radius at last positive pressure grid point\n",
    "R_last = r[idxlast]\n",
    "\n",
    "# mass at last positive pressure grid point\n",
    "Mass_last = y[idxlast][1]\n"
   ]
  },
  {
   "cell_type": "markdown",
   "metadata": {},
   "source": [
    "Locate real radius by finding the location where h=1.0."
   ]
  },
  {
   "cell_type": "code",
   "execution_count": 27,
   "metadata": {
    "collapsed": false
   },
   "outputs": [
    {
     "data": {
      "text/plain": [
       "9.438924211629693"
      ]
     },
     "metadata": {},
     "output_type": "display_data"
    }
   ],
   "source": [
    "# use last 4 points to construct interpolant\n",
    "r_data = np.zeros(4)\n",
    "h_data = np.zeros(4)\n",
    "eps_data = np.zeros(4)\n",
    "rho_data = np.zeros(4)\n",
    "P_data = np.zeros(4)\n",
    "dmdr_data = np.zeros(4)\n",
    "\n",
    "for i in range(idxlast-3,idxlast+1):\n",
    "    r_data[i-idxlast+3] = r[i]\n",
    "#    eps_data[i-idxlast+3] = pow(y[i][0]/K1, 1.0/Gamma1) + y[i][0]/(Gamma1-1)\n",
    "#    rho_data[i-idxlast+3] = pow(y[i][0]/K1, 1.0/Gamma1)\n",
    "    eps_data[i-idxlast+3] = eps_of_P(y[i][0],args2)\n",
    "    rho_data[i-idxlast+3] = rho_of_P(y[i][0],args)\n",
    "    P_data[i-idxlast+3] = y[i][0]\n",
    "    h_data[i-idxlast+3] = (eps_data[i-idxlast+3] + P_data[i-idxlast+3]) \\\n",
    "                           / rho_data[i-idxlast+3] -1.0\n",
    "    dmdr_data[i-idxlast+3] = 4.0*np.pi*r[i]**2*eps_data[i-idxlast+3]\n",
    "\n",
    "h_interp = PchipInterpolator(r_data, h_data)\n",
    "\n",
    "# find the root using Brent's method\n",
    "Radius = optimize.brentq( h_interp, r_data[0], r_data[3]+3*dr, xtol=1e-16 )\n",
    "\n",
    "display(Radius)"
   ]
  },
  {
   "cell_type": "markdown",
   "metadata": {},
   "source": [
    "Locate radius more accurately (to 4th-order) using a cubic Hermite interpolant of the specific enthalpy h-1."
   ]
  },
  {
   "cell_type": "code",
   "execution_count": 28,
   "metadata": {
    "collapsed": false
   },
   "outputs": [],
   "source": [
    "def hHerm (r):\n",
    "    r_last_1 = R_last-dr\n",
    "    r_last = R_last\n",
    "    w = (r-r_data[2])/dr\n",
    "    m_last_1 = y[idxlast-1][1]\n",
    "    m_last = y[idxlast][1]\n",
    "    dhdr_last_1 = - (h_data[2]+1.0)*(m_last_1 + \\\n",
    "                            4.0*np.pi*r_last_1**3*y[idxlast-1][0])/ \\\n",
    "                           (r_last_1*(r_last_1-2.0*m_last_1))\n",
    "    dhdr_last = - (h_data[3]+1.0)*(m_last + \\\n",
    "                           4.0*np.pi*r_last**3*y[idxlast][0])/ \\\n",
    "                           (r_last*(r_last-2.0*m_last))\n",
    "    return (h_data[2]+1.0)*(2.0*pow(w,3.0)-3.0*pow(w,2.0)+1.0)+ \\\n",
    "                          (h_data[3]+1.0)*(2.0*pow(1.0-w,3.0)-3.0*pow(1.0-w,2.0)+1.0) \\\n",
    "                          + ( dhdr_last_1*(pow(w,3.0)-2.0*pow(w,2.0)+w) - \\\n",
    "                           dhdr_last*(pow(1-w,3.0)-2.0*pow(1-w,2.0)+1-w))*dr -1.0"
   ]
  },
  {
   "cell_type": "code",
   "execution_count": 29,
   "metadata": {
    "collapsed": false
   },
   "outputs": [
    {
     "data": {
      "text/plain": [
       "9.438923171865417"
      ]
     },
     "metadata": {},
     "output_type": "display_data"
    }
   ],
   "source": [
    "Radius = optimize.brentq( hHerm, r_data[0], r_data[3]+3*dr, xtol=1e-16 )\n",
    "display(Radius)"
   ]
  },
  {
   "cell_type": "markdown",
   "metadata": {},
   "source": [
    "Correct mass by adding last missing piece by Simpson's rule (finding an intemediate point by pchip interpolation):"
   ]
  },
  {
   "cell_type": "code",
   "execution_count": 30,
   "metadata": {
    "collapsed": false
   },
   "outputs": [
    {
     "data": {
      "text/plain": [
       "1.4145755180636626"
      ]
     },
     "metadata": {},
     "output_type": "display_data"
    }
   ],
   "source": [
    "dmdr_interp_pchip = PchipInterpolator(r_data, dmdr_data)\n",
    "dmdr_midpoint = dmdr_interp_pchip((R_last+Radius)/2)\n",
    "Dmass_simps = (1.0/3.0)*(Radius-R_last)/2*(dmdr_interp_pchip(R_last)+4.0*dmdr_midpoint+dmdr_interp_pchip(Radius))\n",
    "\n",
    "Mass = Mass_last + Dmass_simps\n",
    "\n",
    "display(Mass)"
   ]
  },
  {
   "cell_type": "markdown",
   "metadata": {},
   "source": [
    "Construct table with main solution variables:"
   ]
  },
  {
   "cell_type": "code",
   "execution_count": 31,
   "metadata": {
    "collapsed": false
   },
   "outputs": [],
   "source": [
    "values = np.zeros((idxlast+1, 10)) \n",
    "\n",
    "for i in range(0,idxlast+1): \n",
    "    values[i][0] = r[i]\n",
    "    values[i][1] = rho_of_P(y[i][0], args) # rho\n",
    "    values[i][2] = eps_of_P(y[i][0], args2) # epsilon\n",
    "    values[i][3] = y[i][0]   # P\n",
    "    values[i][4] = y[i][1]   # m\n",
    "    values[i][5] = y[i][2]   # nu (arbitrary)\n",
    "\n",
    "values[0][6] = 0.0\n",
    "for i in range(1,idxlast+1):     \n",
    "    values[i][6] = - np.log(1.0-2.0*y[i][1]/r[i])   # lambda\n",
    "    \n",
    "values[:, 7] = (values[:, 2] + values[:, 3])/values[:, 1]  # h\n",
    "\n",
    "values[:, 8] = - (values[:, 4] + 4.0*np.pi*pow(values[:, 0], 3.0)*values[:, 3])/ \\\n",
    "                     ( values[:, 0]*(values[:, 0] - 2.0*values[:, 4]))\n",
    "                    # (e+P)^{-1} dP/dr directly from rhs of TOV eqn\n",
    "        \n",
    "values[0][8] = 0.0   # fix value at the center \n",
    "\n",
    "for i in range(0,idxlast+1):\n",
    "    rho = values[i][1] \n",
    "    if rho<rhoL_3:\n",
    "        values[i][9] = GammaL_4\n",
    "    elif rhoL_3<= rho <rhoL_2:\n",
    "        values[i][9] = GammaL_3\n",
    "    elif rhoL_2<= rho <rhoL_1:\n",
    "        values[i][9] = GammaL_2\n",
    "    elif rhoL_1<= rho <rho0:\n",
    "        values[i][9] = GammaL_1\n",
    "    elif rho0<= rho <rho1:\n",
    "        values[i][9] = Gamma1\n",
    "    elif rho1<= rho <rho2:\n",
    "        values[i][9] = Gamma2\n",
    "    else:\n",
    "        values[i][9] = Gamma3"
   ]
  },
  {
   "cell_type": "markdown",
   "metadata": {},
   "source": [
    "Match $\\nu$ at the surface, using Schwarzshild vacuum solution:"
   ]
  },
  {
   "cell_type": "code",
   "execution_count": 32,
   "metadata": {
    "collapsed": false
   },
   "outputs": [],
   "source": [
    "# arbitrary nu at the surface\n",
    "nu_s_old = y[idxlast][2]\n",
    "\n",
    "# correct nu at the surface\n",
    "nu_s = np.log(1.0-2.0*Mass/Radius)\n",
    "\n",
    "# shift nu inside star by difference\n",
    "values[:, 5] = values[:, 5] + (-nu_s_old + nu_s)"
   ]
  },
  {
   "cell_type": "markdown",
   "metadata": {
    "collapsed": false
   },
   "source": [
    "Compute baryon mass and alternative expression for gravitational mass:"
   ]
  },
  {
   "cell_type": "code",
   "execution_count": 33,
   "metadata": {
    "collapsed": false
   },
   "outputs": [],
   "source": [
    "# construct radius array and integrands for baryon and alternative mass integration\n",
    "\n",
    "rint = np.zeros(idxlast+1)\n",
    "m0int = np.zeros(idxlast+1)\n",
    "mint_alt = np.zeros(idxlast+1)\n",
    "\n",
    "# fill radius array and integrands \n",
    "\n",
    "for i in range(0,idxlast+1): \n",
    "    rint[i] = values[i][0]\n",
    "    m0int[i] = 4.0*np.pi*pow(rint[i],2.0)*np.exp(values[i][6]/2.0)*values[i][1]\n",
    "    mint_alt[i] = 4.0*np.pi*pow(rint[i],2.0)*np.exp((values[i][5]+values[i][6])/2.0) \\\n",
    "                  *(values[i][2]+3.0*values[i][3])\n",
    "\n",
    "# integrate using Simpson's method\n",
    "M0_last = integrate.simps( m0int, dx=dr)\n",
    "M_alt_last = integrate.simps( mint_alt, dx=dr, even='last')\n",
    "\n",
    "# correct M0 and M_alt by adding last trapezoid\n",
    "M0 = M0_last + 0.5*4.0*np.pi*R_last**2*np.exp(values[idxlast][6]/2.0) \\\n",
    "                      *values[idxlast][1]*(Radius-R_last)\n",
    "\n",
    "M_alt = M_alt_last + 0.5*4.0*np.pi*R_last**2* np.exp((values[idxlast][5]\n",
    "                            +values[idxlast][6])/2.0)*(values[idxlast][2] \\\n",
    "                                +3.0*values[idxlast][3]) *(Radius-R_last)\n",
    "\n",
    "# compute relative difference between mass and alt. mass\n",
    "M_reldiff = (Mass-M_alt)/Mass\n"
   ]
  },
  {
   "cell_type": "markdown",
   "metadata": {},
   "source": [
    "# Main results"
   ]
  },
  {
   "cell_type": "code",
   "execution_count": 34,
   "metadata": {
    "collapsed": false,
    "scrolled": true
   },
   "outputs": [
    {
     "name": "stdout",
     "output_type": "stream",
     "text": [
      "Number of grid points = 309\n",
      "rho_c = 0.0009558570537800262\n",
      "epsilon_c = 0.0010412455934783369\n",
      "P_c = 0.00012135013718629509\n",
      "dr = 0.0306024414528\n",
      "Radius of last grid point = 9.42555196747\n",
      "Extrapolated Radius at zero pressure = 9.4389231718654170\n",
      "Baryon Mass = 1.53522656772\n",
      "Gravitational Mass = 1.4145755180636626\n",
      "Alternative Mass = 1.41497650065\n",
      "Rel. diff. in Mass = -0.000283464956265\n"
     ]
    }
   ],
   "source": [
    "N_gridpoints = idxlast+1\n",
    "\n",
    "print('Number of grid points =', N_gridpoints)\n",
    "print('rho_c =', rho_c)\n",
    "print('epsilon_c =', eps_c)\n",
    "print('P_c =', P_c)\n",
    "print('dr =', dr)\n",
    "print('Radius of last grid point =', R_last)\n",
    "print('Extrapolated Radius at zero pressure =', '%.16f'% Radius)\n",
    "print('Baryon Mass =', M0)\n",
    "print('Gravitational Mass =', '%.16f'% Mass)\n",
    "print('Alternative Mass =', M_alt)\n",
    "print('Rel. diff. in Mass =', M_reldiff)"
   ]
  },
  {
   "cell_type": "markdown",
   "metadata": {},
   "source": [
    "# Figures"
   ]
  },
  {
   "cell_type": "code",
   "execution_count": 35,
   "metadata": {
    "collapsed": false
   },
   "outputs": [
    {
     "data": {
      "image/png": "[encoded data removed]",
      "text/plain": [
       "<matplotlib.figure.Figure at 0x1179cfa58>"
      ]
     },
     "metadata": {},
     "output_type": "display_data"
    }
   ],
   "source": [
    "fig = plt.figure(figsize=(10, 6))\n",
    "ax1 = plt.subplot2grid((3, 5), (0, 0), colspan=2)\n",
    "ax2 = plt.subplot2grid((3, 5), (1, 0), colspan=2)\n",
    "ax3 = plt.subplot2grid((3, 5), (2, 0), colspan=2)\n",
    "ax4 = plt.subplot2grid((3, 5), (0, 3), colspan=2)\n",
    "ax5 = plt.subplot2grid((3, 5), (1, 3), colspan=2)\n",
    "ax6 = plt.subplot2grid((3, 5), (2, 3), colspan=2)\n",
    "\n",
    "ax1.plot(values[:, 0], values[:, 3], 'r')\n",
    "ax1.set_ylabel('$P$', fontsize=14)\n",
    "ax1.set_xlim((0,R_last))\n",
    "\n",
    "ax2.plot(values[:, 0], values[:, 2], 'r')\n",
    "ax2.set_ylabel('$\\epsilon$', fontsize=14)\n",
    "ax2.set_xlim((0, R_last));\n",
    "\n",
    "ax3.plot(values[:, 0], values[:, 8], 'm')\n",
    "ax3.set_xlabel(r'$r$', fontsize=14)\n",
    "ax3.set_ylabel(r'$(\\epsilon+P)^{-1}dP/dr$', fontsize=14)\n",
    "ax3.set_xlim((0, R_last));\n",
    "\n",
    "ax4.plot(values[:, 0], values[:, 5], 'b')\n",
    "ax4.set_ylabel(r'$\\nu$', fontsize=14)\n",
    "ax4.set_xlim((0, R_last))\n",
    "\n",
    "ax5.plot(values[:, 0], values[:, 6], 'b')\n",
    "ax5.set_ylabel(r'$\\lambda$', fontsize=14)\n",
    "ax5.set_xlim((0, R_last));\n",
    "\n",
    "ax6.plot(values[:, 0], values[:, 4], 'c')\n",
    "ax6.set_ylabel(r'$m$', fontsize=14)\n",
    "ax6.set_xlim((0, R_last));\n",
    "ax6.set_xlabel(r'$r$', fontsize=14)\n",
    "\n",
    "plt.show()"
   ]
  },
  {
   "cell_type": "markdown",
   "metadata": {},
   "source": [
    "# Convert to CGS"
   ]
  },
  {
   "cell_type": "code",
   "execution_count": 36,
   "metadata": {
    "collapsed": false
   },
   "outputs": [
    {
     "name": "stdout",
     "output_type": "stream",
     "text": [
      "Number of grid points = 309\n",
      "rho_c = 590000000000000.0\n",
      "epsilon_c/c^2 = 642705828996892.2\n",
      "epsilon_c = 5.776257201859375e+35\n",
      "P_c = 6.731837409533715e+34\n",
      "dr = 4520.09937245\n",
      "Radius of last grid point = 1392190.60671\n",
      "Extrapolated Radius at zero pressure = 1394165.5854982873\n",
      "Baryon Mass = 3.05356564319e+33\n",
      "Gravitational Mass = 2.81359070543e+33\n",
      "Alternative Mass = 2.81438825979e+33\n",
      "Rel. diff. in Mass = -0.000283464956265\n"
     ]
    }
   ],
   "source": [
    "c=2.9979e10\n",
    "G=6.67408e-8\n",
    "Msun=1.989e33\n",
    "Length = G*Msun/c**2\n",
    "Time = Length/c\n",
    "Density = Msun/Length**3\n",
    "dr_CGS = dr*Length\n",
    "print('Number of grid points =', N_gridpoints)\n",
    "print('rho_c =', rho_c*Density)\n",
    "print('epsilon_c/c^2 =', eps_c*Density)\n",
    "print('epsilon_c =', eps_c*Density*c**2)\n",
    "print('P_c =', P_c*Density*c**2)\n",
    "print('dr =', dr_CGS)\n",
    "print('Radius of last grid point =', R_last*Length)\n",
    "print('Extrapolated Radius at zero pressure =', Radius*Length)\n",
    "print('Baryon Mass =', M0*Msun)\n",
    "print('Gravitational Mass =', Mass*Msun)\n",
    "print('Alternative Mass =', M_alt*Msun)\n",
    "print('Rel. diff. in Mass =', M_reldiff)"
   ]
  },
  {
   "cell_type": "code",
   "execution_count": 37,
   "metadata": {
    "collapsed": true
   },
   "outputs": [],
   "source": [
    "values_CGS = np.zeros((idxlast+1, 10)) \n",
    "\n",
    "values_CGS[:, 0] = values[:, 0] * Length\n",
    "values_CGS[:, 1] = values[:, 1] * Density  # rho\n",
    "values_CGS[:, 2] = values[:, 2] * Density*c**2  # epsilon\n",
    "values_CGS[:, 3] = values[:, 3] * Density*c**2  # P\n",
    "values_CGS[:, 4] = values[:, 4] * Msun  # m\n",
    "values_CGS[:, 5] = values[:, 5]         # nu\n",
    "values_CGS[:, 6] = values[:, 6]         # lambda\n",
    "values_CGS[:, 7] = values[:, 7] * c**2  # h\n",
    "values_CGS[:, 8] = values[:, 8] / Length   # (epsilon+P)^{-1} dP/dr\n",
    "values_CGS[:, 9] = values[:, 9]         # Gamma"
   ]
  },
  {
   "cell_type": "markdown",
   "metadata": {},
   "source": [
    "# Write output files"
   ]
  },
  {
   "cell_type": "code",
   "execution_count": 38,
   "metadata": {
    "collapsed": false
   },
   "outputs": [],
   "source": [
    "np.savetxt('TOV_output.dat', values)\n",
    "np.savetxt('TOV_output_CGS.dat', values_CGS)"
   ]
  },
  {
   "cell_type": "markdown",
   "metadata": {},
   "source": [
    "# Convergence study"
   ]
  },
  {
   "cell_type": "markdown",
   "metadata": {},
   "source": [
    "Using 11 different grid sizes (doubling the number of points each time), one can show the 4th-order convergence of the code to machine accuracy. Notice that the order of covergence is basically set by the Taylor expansion at the center, since the Runge-Kutta integration that follows up to the surface is a highly-accurate, adaptive step-size method. The mass contained between the last grid point with positive pressure and the true radius where the pressure vanishes is added by Simpson's rule, creating a midpoint by piecewise cubic Hermite interpolation of the last points inside the star. Furthermore, using the piecewise cubic Hermite interpolation to locate the true radius is critical for maintaining an overall near 4th order of convergence). "
   ]
  },
  {
   "cell_type": "code",
   "execution_count": 39,
   "metadata": {
    "collapsed": false
   },
   "outputs": [
    {
     "data": {
      "text/plain": [
       "13.941655854982873"
      ]
     },
     "metadata": {},
     "output_type": "display_data"
    },
    {
     "data": {
      "text/plain": [
       "1.4145755180636626"
      ]
     },
     "metadata": {},
     "output_type": "display_data"
    }
   ],
   "source": [
    "display(Radius*Length/1e5, Mass)"
   ]
  },
  {
   "cell_type": "code",
   "execution_count": 40,
   "metadata": {
    "collapsed": false
   },
   "outputs": [],
   "source": [
    "#different number of grid points used\n",
    "Npoints = (51, 101, 201, 401, 801, 1601,  3201, 6401, 12801, 25601, 51201) \n",
    "\n",
    "#corresponding radii\n",
    "Rpoints = (13.94172207620917, 13.941645678449056, 13.941655888703531, \n",
    "           13.941655855224191, 13.941655854982873, 13.941655855950778, \n",
    "           13.94165585620129, 13.941655856226983, 13.941655856226571, \n",
    "           13.94165585623217, 13.941655856231263)\n",
    "\n",
    "#corresponding masses\n",
    "Mpoints = (1.4146759258806558, 1.4145827900297967, 1.4145754433896565, \n",
    "           1.4145755137445708, 1.4145755180636626, 1.4145755182332922, \n",
    "           1.4145755175326402, 1.414575517523043, 1.414575517522602, \n",
    "           1.4145755175236454, 1.4145755175227888)\n"
   ]
  },
  {
   "cell_type": "code",
   "execution_count": 41,
   "metadata": {
    "collapsed": false
   },
   "outputs": [],
   "source": [
    "Nconv = 10\n",
    "Ndiffpoints = np.zeros(Nconv)\n",
    "Mdiffpoints = np.zeros(Nconv)\n",
    "Rdiffpoints = np.zeros(Nconv)\n",
    "Mdiffpoints_abs = np.zeros(Nconv)\n",
    "Rdiffpoints_abs = np.zeros(Nconv)\n",
    "\n",
    "for i in range(0,Nconv):\n",
    "    Ndiffpoints[i] = Npoints[i]\n",
    "    Mdiffpoints[i] = (Mpoints[Nconv]-Mpoints[i])/Mpoints[Nconv]\n",
    "    Rdiffpoints[i] = (Rpoints[Nconv]-Rpoints[i])/Rpoints[Nconv]\n",
    "    Mdiffpoints_abs[i] = np.abs(Mpoints[Nconv]-Mpoints[i])/Mpoints[Nconv]\n",
    "    Rdiffpoints_abs[i] = np.abs(Rpoints[Nconv]-Rpoints[i])/Rpoints[Nconv]\n"
   ]
  },
  {
   "cell_type": "code",
   "execution_count": 42,
   "metadata": {
    "collapsed": false
   },
   "outputs": [
    {
     "data": {
      "text/plain": [
       "array([ -4.74979289e-06,   7.30026785e-07,  -2.32915435e-09,\n",
       "         7.22347309e-11,   8.95438712e-11,   2.01184832e-11,\n",
       "         2.14985001e-12,   3.06939410e-13,   3.36499370e-13,\n",
       "        -6.51083597e-14])"
      ]
     },
     "metadata": {},
     "output_type": "display_data"
    },
    {
     "data": {
      "text/plain": [
       "array([ -7.09812637e-05,  -5.14112320e-06,   5.24066276e-08,\n",
       "         2.67091994e-09,  -3.82357664e-10,  -5.02273244e-10,\n",
       "        -6.96424678e-12,  -1.79729586e-13,   1.32010989e-13,\n",
       "        -6.05586676e-13])"
      ]
     },
     "metadata": {},
     "output_type": "display_data"
    }
   ],
   "source": [
    "display(Rdiffpoints)\n",
    "display(Mdiffpoints)"
   ]
  },
  {
   "cell_type": "code",
   "execution_count": 43,
   "metadata": {
    "collapsed": false
   },
   "outputs": [
    {
     "data": {
      "image/png": "[encoded data removed]",
      "text/plain": [
       "<matplotlib.figure.Figure at 0x1179aa2b0>"
      ]
     },
     "metadata": {},
     "output_type": "display_data"
    }
   ],
   "source": [
    "fig = plt.figure(figsize=(10, 6))\n",
    "ax1 = plt.subplot2grid((2, 5), (0, 0), colspan=2)\n",
    "ax2 = plt.subplot2grid((2, 5), (1, 0), colspan=2)\n",
    "ax3 = plt.subplot2grid((2, 5), (0, 3), colspan=2)\n",
    "ax4 = plt.subplot2grid((2, 5), (1, 3), colspan=2)\n",
    "\n",
    "ax1.plot(Npoints, Mpoints, 'b')\n",
    "ax1.set_xscale(\"log\")\n",
    "ax1.set_ylabel('$M$', fontsize=14)\n",
    "ax1.set_xlim((0,Npoints[Nconv-1]))\n",
    "\n",
    "ax2.plot(Npoints, Rpoints, 'b')\n",
    "ax2.set_xscale(\"log\")\n",
    "ax2.set_ylabel('$R$', fontsize=14)\n",
    "ax2.set_xlim((0,Npoints[Nconv-1]))\n",
    "ax2.set_xlabel('$N$', fontsize=14)\n",
    "\n",
    "ax3.plot(Ndiffpoints, Mdiffpoints_abs, 'r')\n",
    "ax3.set_xscale(\"log\")\n",
    "ax3.set_yscale(\"log\")\n",
    "ax3.set_ylabel('$\\Delta M / M$', fontsize=14)\n",
    "ax3.set_xlim((0,Npoints[Nconv-1]))\n",
    "\n",
    "ax4.plot(Ndiffpoints, Rdiffpoints_abs, 'r')\n",
    "ax4.set_xscale(\"log\")\n",
    "ax4.set_yscale(\"log\")\n",
    "ax4.set_ylabel('$\\Delta R / R$', fontsize=14)\n",
    "ax4.set_xlim((0,Npoints[Nconv-1]))\n",
    "ax4.set_xlabel('$N$', fontsize=14)\n",
    "\n",
    "plt.show()"
   ]
  },
  {
   "cell_type": "markdown",
   "metadata": {},
   "source": [
    "Average convergence order:"
   ]
  },
  {
   "cell_type": "code",
   "execution_count": 44,
   "metadata": {
    "collapsed": false
   },
   "outputs": [
    {
     "data": {
      "text/plain": [
       "-3.4407608839588439"
      ]
     },
     "execution_count": 44,
     "metadata": {},
     "output_type": "execute_result"
    }
   ],
   "source": [
    "( np.log10(Mdiffpoints_abs[5])-np.log10(Mdiffpoints_abs[0]))/( np.log10(Ndiffpoints[5])\n",
    "                                                      - np.log10(Ndiffpoints[0]))"
   ]
  },
  {
   "cell_type": "code",
   "execution_count": 45,
   "metadata": {
    "collapsed": false
   },
   "outputs": [
    {
     "data": {
      "text/plain": [
       "-3.5896602734384579"
      ]
     },
     "execution_count": 45,
     "metadata": {},
     "output_type": "execute_result"
    }
   ],
   "source": [
    "( np.log10(Rdiffpoints_abs[5])-np.log10(Rdiffpoints_abs[0]))/( np.log10(Ndiffpoints[5])\n",
    "                                                      - np.log10(Ndiffpoints[0]))"
   ]
  },
  {
   "cell_type": "code",
   "execution_count": 46,
   "metadata": {
    "collapsed": false
   },
   "outputs": [
    {
     "data": {
      "text/plain": [
       "3.6641800984000725"
      ]
     },
     "execution_count": 46,
     "metadata": {},
     "output_type": "execute_result"
    }
   ],
   "source": [
    "np.log2( (Mpoints[1]- Mpoints[0] )/( Mpoints[2] - Mpoints[1]))"
   ]
  }
 ],
 "metadata": {
  "kernelspec": {
   "display_name": "Python 3",
   "language": "python",
   "name": "python3"
  },
  "language_info": {
   "codemirror_mode": {
    "name": "ipython",
    "version": 3
   },
   "file_extension": ".py",
   "mimetype": "text/x-python",
   "name": "python",
   "nbconvert_exporter": "python",
   "pygments_lexer": "ipython3",
   "version": "3.5.5"
  },
  "latex_envs": {
   "LaTeX_envs_menu_present": true,
   "autoclose": false,
   "autocomplete": true,
   "bibliofile": "biblio.bib",
   "cite_by": "apalike",
   "current_citInitial": 1,
   "eqLabelWithNumbers": true,
   "eqNumInitial": 1,
   "hotkeys": {
    "equation": "Ctrl-E",
    "itemize": "Ctrl-I"
   },
   "labels_anchors": false,
   "latex_user_defs": false,
   "report_style_numbering": false,
   "user_envs_cfg": false
  },
  "toc": {
   "nav_menu": {},
   "number_sections": true,
   "sideBar": true,
   "skip_h1_title": false,
   "title_cell": "Table of Contents",
   "title_sidebar": "Contents",
   "toc_cell": false,
   "toc_position": {},
   "toc_section_display": true,
   "toc_window_display": true
  },
  "varInspector": {
   "cols": {
    "lenName": 16,
    "lenType": 16,
    "lenVar": 40
   },
   "kernels_config": {
    "python": {
     "delete_cmd_postfix": "",
     "delete_cmd_prefix": "del ",
     "library": "var_list.py",
     "varRefreshCmd": "print(var_dic_list())"
    },
    "r": {
     "delete_cmd_postfix": ") ",
     "delete_cmd_prefix": "rm(",
     "library": "var_list.r",
     "varRefreshCmd": "cat(var_dic_list()) "
    }
   },
   "types_to_exclude": [
    "module",
    "function",
    "builtin_function_or_method",
    "instance",
    "_Feature"
   ],
   "window_display": false
  }
 },
 "nbformat": 4,
 "nbformat_minor": 0
}
