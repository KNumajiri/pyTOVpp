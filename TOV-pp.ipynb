{
 "cells": [
  {
   "cell_type": "markdown",
   "metadata": {},
   "source": [
    "\n",
    "**TOV Stars with Polytropic equation of state**\n",
    "\n",
    "N. Stergioulas\n",
    "\n",
    "Aristotle University of Thessaloniki\n",
    "\n",
    "v1.0 (May 2018)\n",
    "\n",
    "###### Content provided under a Creative Commons Attribution license, [CC BY-NC-SA 4.0](https://creativecommons.org/licenses/by-nc-sa/4.0/); code under [GNU GPLv3 License](https://choosealicense.com/licenses/gpl-3.0/). (c)2018 [Nikolaos Stergioulas](http://www.astro.auth.gr/~niksterg/)\n"
   ]
  },
  {
   "cell_type": "code",
   "execution_count": 1,
   "metadata": {
    "collapsed": false
   },
   "outputs": [],
   "source": [
    "from __future__ import print_function, division\n",
    "import numpy as np\n",
    "import matplotlib.pyplot as plt\n",
    "%matplotlib inline\n",
    "import scipy as sp\n",
    "from scipy import integrate\n",
    "from scipy import optimize\n",
    "from scipy.interpolate import PchipInterpolator\n",
    "import sys\n",
    "from decimal import Decimal\n",
    "import warnings\n",
    "if not sys.warnoptions:\n",
    "    warnings.simplefilter(\"ignore\")"
   ]
  },
  {
   "cell_type": "markdown",
   "metadata": {},
   "source": [
    "# The TOV equations for spherical stars"
   ]
  },
  {
   "cell_type": "markdown",
   "metadata": {},
   "source": [
    "Consider the metric for a spherically symmetric, stationary and asymptotic spacetime in Schwarzshild coordinates $t, r, \\theta, \\phi$\n",
    "$$ ds^2 = -e^{\\nu}dt^2 +e^{\\lambda}dr^2 + r^2(d\\theta^2+\\sin^2\\theta d\\phi^2)$$\n",
    "The TOV system in units $c=G=1$ is\n",
    "$$ P = P(\\epsilon),$$\n",
    "$$ \\frac{dP}{dr} = -\\frac{(\\epsilon+P)(m+4\\pi r^3P)}{r(r-2m)},$$\n",
    "$$ \\frac{dm}{dr} = 4\\pi r^2 \\epsilon$$\n",
    "$$ \\frac{d\\nu}{dr} = -\\frac{2}{\\epsilon+P}\\frac{dP}{dr}=\\frac{2(m+4\\pi r^3P)}{r(r-2m)},$$\n",
    "$$ \\lambda = -\\ln\\left(1-\\frac{2m}{r}\\right),$$\n",
    "The central values are\n",
    "$$ P(0) = P_c,$$\n",
    "$$ m(0) = 0,$$\n",
    "$$ \\nu(0) = -1.$$\n",
    "where the last choice is arbitrary (after the interior solution is obtained, $\\nu$ will be shifted to match the Schwarzschild exterior solution at the surface).\n",
    "\n",
    "Near the center, we do a series expansion \n",
    "$$P(r) \\simeq P_c -(2\\pi)(\\epsilon_c+P_c) \\left( P_c+\\frac{1}{3}\\epsilon_c \\right) r^2 + O(r^4),$$\n",
    "$$ m(r) \\simeq \\frac{4}{3}\\pi\\epsilon_cr^3 + O(r^4),$$\n",
    "$$ \\nu(r) \\simeq \\nu_c + 4\\pi \\left(P_c+ \\frac{1}{3}\\epsilon_c \\right)r^2 + O(r^4).$$\n",
    "The value of $\\nu$ at the surface is \n",
    "$$ \\nu_\\star = -\\lambda_\\star = \\ln\\left(1-\\frac{2M}{R}\\right).$$\n",
    "The gravitational mass can be obtained as \n",
    "$$ M = \\int_0^R 4\\pi r^2\\epsilon dr,$$\n",
    "or as\n",
    "$$ M = \\int_0^R 4\\pi r^2 e^{(\\nu+\\lambda)/2}(\\epsilon +3P)dr,$$\n",
    "The baryon mass of the star is\n",
    "$$ M_0 = \\int_0^R 4\\pi r^2 e^{\\lambda/2}\\rho dr. $$\n",
    "The polytropic equation of state is\n",
    "$$P = K\\rho^\\Gamma,$$\n",
    "$$ \\epsilon = \\rho + \\frac{P}{\\Gamma-1}$$\n",
    "\n",
    "\n",
    "In the numerical implementation, we use a length scale of $M_\\odot =1$. For the output, units are also converted to CGS."
   ]
  },
  {
   "cell_type": "markdown",
   "metadata": {},
   "source": [
    "# Numerical implementation"
   ]
  },
  {
   "cell_type": "markdown",
   "metadata": {},
   "source": [
    "Define the system $ f(r, {\\mathbf y} (r))$ of differential equations to be solved:\n",
    "$$ f(r, {\\mathbf y} (r)) = \\frac{d}{dr} \\begin{bmatrix} y_0(r)\\\\ y_1(r) \\\\ y_2(r) \\end{bmatrix}\n",
    "  = \\frac{d}{dr} \\begin{bmatrix} P(r)\\\\ m(r) \\\\ \\nu(r) \\end{bmatrix} = \n",
    "  \\begin{bmatrix} -\\frac{(\\epsilon+P)(m+4\\pi r^3P)}{r(r-2m)} \\\\  \n",
    "                  4\\pi r^2 \\epsilon \\\\\n",
    "                  \\frac{2(m+4\\pi r^3P)}{r(r-2m)} \n",
    "                  \\end{bmatrix}$$"
   ]
  },
  {
   "cell_type": "code",
   "execution_count": 2,
   "metadata": {
    "collapsed": false
   },
   "outputs": [],
   "source": [
    "def f(r, y, args):\n",
    "    Gamma, K = args\n",
    "    eps = pow(y[0]/K, 1.0/Gamma) +y[0]/(Gamma-1)   # required below\n",
    "    \n",
    "    return [ -( eps + y[0] )*( y[1] + 4.0*np.pi*pow(r,3.0)*y[0] )/( r*(r-2.0*y[1]) ), \n",
    "            \n",
    "             4*np.pi*pow(r,2.0)*eps,\n",
    "            \n",
    "             2.0*( y[1] + 4.0*np.pi*pow(r,3.0)*y[0] )/( r*(r-2.0*y[1]) ) \n",
    "           ]"
   ]
  },
  {
   "cell_type": "markdown",
   "metadata": {},
   "source": [
    "Set polytropic index and constant:"
   ]
  },
  {
   "cell_type": "code",
   "execution_count": 3,
   "metadata": {
    "collapsed": true
   },
   "outputs": [],
   "source": [
    "Gamma = 2.0\n",
    "K = 100.0\n",
    "args = (Gamma, K)\n",
    "\n",
    "def P_of_eps(x):    # define P(epsilon)\n",
    "    return ( x-K*pow(eps_c-x/(Gamma-1.0),Gamma) )\n"
   ]
  },
  {
   "cell_type": "markdown",
   "metadata": {},
   "source": [
    "Set the central values $\\epsilon_c$ and $\\nu_c$ and the starting values for the system of ODEs:"
   ]
  },
  {
   "cell_type": "code",
   "execution_count": 4,
   "metadata": {
    "collapsed": false
   },
   "outputs": [],
   "source": [
    "\n",
    "# choose the central energy density and find the central pressure\n",
    "eps_c = 1.444e-3\n",
    "P_c_approx = K*pow(eps_c, Gamma) # approx. value for setting bounds in root finding\n",
    "P_c = optimize.brentq( P_of_eps, 0.5*P_c_approx, 10*P_c_approx, xtol=1e-16 )\n",
    "\n",
    "# set an arbitrary starting value for nu at the center\n",
    "nu_c = -1.0\n",
    "\n",
    "# set a safe max r, based on 4x radius of 1 Msun uniform density Newt. model\n",
    "r_max = 4.0 * pow( 3.0/(4.0*np.pi*eps_c), 1.0/3.0)\n",
    "\n",
    "# create an equidistant array of values for r\n",
    "N = 25601\n",
    "r = np.linspace(0.0, r_max, N)\n",
    "dr = r[1] - r[0]\n",
    "\n",
    "# compute P, m, nu at r=dr by Taylor expansion\n",
    "P_1 =  P_c - (2.0*np.pi)*(eps_c+P_c)*(P_c+(1.0/3.0)*eps_c)*pow(dr,2.0)\n",
    "m_1 =  (4.0/3.0)*np.pi*eps_c*pow(dr, 3.0)\n",
    "nu_1 = nu_c + 4.0*np.pi*(P_c+(1.0/3.0)*eps_c)*pow(dr,2.0)\n",
    "\n",
    "# set starting values at r=dr for numerical integration\n",
    "y0 = [P_1, m_1, nu_1]\n"
   ]
  },
  {
   "cell_type": "markdown",
   "metadata": {},
   "source": [
    "Define an instant of the numerical solution of the ODE system"
   ]
  },
  {
   "cell_type": "code",
   "execution_count": 5,
   "metadata": {
    "collapsed": false
   },
   "outputs": [],
   "source": [
    "\n",
    "solve = integrate.ode(f)\n",
    "solve.set_integrator('lsoda', rtol=1e-12, atol=1e-50,ixpr=True);\n",
    "solve.set_initial_value(y0, dr);\n",
    "solve.set_f_params(args);\n"
   ]
  },
  {
   "cell_type": "markdown",
   "metadata": {},
   "source": [
    "Integrate from starting point to the surface (where $P=0$):"
   ]
  },
  {
   "cell_type": "code",
   "execution_count": 6,
   "metadata": {
    "collapsed": false
   },
   "outputs": [],
   "source": [
    "# create the solution vector\n",
    "y = np.zeros((len(r), len(y0)))\n",
    "\n",
    "# fill the solution vector with the values at the center\n",
    "y[0,:] = [P_c, 0.0, nu_c]\n",
    "\n",
    "# initialize counter\n",
    "idx = 1\n",
    "\n",
    "# integrate repeatedly to next grid point until P becomes zero\n",
    "while solve.successful() and solve.t < r[-1] and solve.y[0]>0.0:\n",
    "    \n",
    "      y[idx, :] = solve.y\n",
    "      solve.integrate(solve.t + dr)\n",
    "      idx += 1\n",
    "\n",
    "# last grid point with positive pressure\n",
    "idxlast = idx-1 \n",
    "\n",
    "# radius at last positive pressure grid point\n",
    "R_last = r[idxlast]\n",
    "\n",
    "# mass at last positive pressure grid point\n",
    "Mass_last = y[idxlast][1]\n"
   ]
  },
  {
   "cell_type": "markdown",
   "metadata": {},
   "source": [
    "Locate real radius by finding the location where h=1.0."
   ]
  },
  {
   "cell_type": "code",
   "execution_count": 7,
   "metadata": {
    "collapsed": false
   },
   "outputs": [
    {
     "data": {
      "text/plain": [
       "9.585429276495795"
      ]
     },
     "metadata": {},
     "output_type": "display_data"
    }
   ],
   "source": [
    "# use last 4 points to construct interpolant\n",
    "r_data = np.zeros(4)\n",
    "h_data = np.zeros(4)\n",
    "eps_data = np.zeros(4)\n",
    "rho_data = np.zeros(4)\n",
    "P_data = np.zeros(4)\n",
    "dmdr_data = np.zeros(4)\n",
    "\n",
    "for i in range(idxlast-3,idxlast+1):\n",
    "    r_data[i-idxlast+3] = r[i]\n",
    "    eps_data[i-idxlast+3] = pow(y[i][0]/K, 1.0/Gamma) + y[i][0]/(Gamma-1)\n",
    "    rho_data[i-idxlast+3] = pow(y[i][0]/K, 1.0/Gamma)\n",
    "    P_data[i-idxlast+3] = y[i][0]\n",
    "    h_data[i-idxlast+3] = (eps_data[i-idxlast+3] + P_data[i-idxlast+3]) \\\n",
    "                           / rho_data[i-idxlast+3] -1.0\n",
    "    dmdr_data[i-idxlast+3] = 4.0*np.pi*r[i]**2*eps_data[i-idxlast+3]\n",
    "\n",
    "h_interp = PchipInterpolator(r_data, h_data)\n",
    "\n",
    "# find the root using Brent's method\n",
    "Radius = optimize.brentq( h_interp, r_data[0], r_data[3]+3*dr, xtol=1e-16 )\n",
    "\n",
    "display(Radius)"
   ]
  },
  {
   "cell_type": "markdown",
   "metadata": {},
   "source": [
    "Locate radius more accurately (to 4th-order) using a cubic Hermite interpolant of the specific enthalpy h-1."
   ]
  },
  {
   "cell_type": "code",
   "execution_count": 8,
   "metadata": {
    "collapsed": false
   },
   "outputs": [],
   "source": [
    "def hHerm (r):\n",
    "    r_last_1 = R_last-dr\n",
    "    r_last = R_last\n",
    "    w = (r-r_data[2])/dr\n",
    "    m_last_1 = y[idxlast-1][1]\n",
    "    m_last = y[idxlast][1]\n",
    "    dhdr_last_1 = - (h_data[2]+1.0)*(m_last_1 + \\\n",
    "                            4.0*np.pi*r_last_1**3*y[idxlast-1][0])/ \\\n",
    "                           (r_last_1*(r_last_1-2.0*m_last_1))\n",
    "    dhdr_last = - (h_data[3]+1.0)*(m_last + \\\n",
    "                           4.0*np.pi*r_last**3*y[idxlast][0])/ \\\n",
    "                           (r_last*(r_last-2.0*m_last))\n",
    "    return (h_data[2]+1.0)*(2.0*pow(w,3.0)-3.0*pow(w,2.0)+1.0)+ \\\n",
    "                          (h_data[3]+1.0)*(2.0*pow(1.0-w,3.0)-3.0*pow(1.0-w,2.0)+1.0) \\\n",
    "                          + ( dhdr_last_1*(pow(w,3.0)-2.0*pow(w,2.0)+w) - \\\n",
    "                           dhdr_last*(pow(1-w,3.0)-2.0*pow(1-w,2.0)+1-w))*dr -1.0"
   ]
  },
  {
   "cell_type": "code",
   "execution_count": 9,
   "metadata": {
    "collapsed": false
   },
   "outputs": [
    {
     "data": {
      "text/plain": [
       "9.585429276491004"
      ]
     },
     "metadata": {},
     "output_type": "display_data"
    }
   ],
   "source": [
    "Radius = optimize.brentq( hHerm, r_data[0], r_data[3]+3*dr, xtol=1e-16 )\n",
    "display(Radius)"
   ]
  },
  {
   "cell_type": "markdown",
   "metadata": {},
   "source": [
    "Correct mass by adding last missing trapezoid:"
   ]
  },
  {
   "cell_type": "code",
   "execution_count": 10,
   "metadata": {
    "collapsed": false
   },
   "outputs": [
    {
     "data": {
      "text/plain": [
       "1.4002084369045944"
      ]
     },
     "metadata": {},
     "output_type": "display_data"
    }
   ],
   "source": [
    "Mass = Mass_last + 0.5*4*np.pi*R_last**2*eps_data[3]*(Radius-R_last)\n",
    "display(Mass)"
   ]
  },
  {
   "cell_type": "code",
   "execution_count": 11,
   "metadata": {
    "collapsed": false
   },
   "outputs": [
    {
     "data": {
      "text/plain": [
       "1.4002084369046766"
      ]
     },
     "metadata": {},
     "output_type": "display_data"
    }
   ],
   "source": [
    "dmdr_interp_pchip = PchipInterpolator(r_data, dmdr_data)\n",
    "dmdr_midpoint = dmdr_interp_pchip((R_last+Radius)/2)\n",
    "Dmass_simps = (1.0/3.0)*(Radius-R_last)/2*(dmdr_interp_pchip(R_last)+4.0*dmdr_midpoint+dmdr_interp_pchip(Radius))\n",
    "\n",
    "Mass = Mass_last + Dmass_simps\n",
    "\n",
    "display(Mass)"
   ]
  },
  {
   "cell_type": "markdown",
   "metadata": {},
   "source": [
    "Construct table with main solution variables:"
   ]
  },
  {
   "cell_type": "code",
   "execution_count": 12,
   "metadata": {
    "collapsed": false
   },
   "outputs": [],
   "source": [
    "values = np.zeros((idxlast+1, 9)) \n",
    "\n",
    "for i in range(0,idxlast+1): \n",
    "    values[i][0] = r[i]\n",
    "    values[i][1] = pow(y[i][0]/K, 1.0/Gamma)  # rho\n",
    "    values[i][2] = pow(y[i][0]/K, 1.0/Gamma) + y[i][0]/(Gamma-1)  # epsilon\n",
    "    values[i][3] = y[i][0]   # P\n",
    "    values[i][4] = y[i][1]   # m\n",
    "    values[i][5] = y[i][2]   # nu (arbitrary)\n",
    "\n",
    "# lambda\n",
    "values[0][6] = 0.0\n",
    "for i in range(1,idxlast+1):     \n",
    "    values[i][6] = - np.log(1.0-2.0*y[i][1]/r[i])\n",
    "    \n",
    "values[:, 7] = (values[:, 2] + values[:, 3])/values[:, 1]  # h\n",
    "values[:, 8] = np.gradient(values[:, 3],dr,edge_order=2)/(values[:,2] +values[:,3] )  \n",
    "                                                                # (e+P)^{-1} dP/dr"
   ]
  },
  {
   "cell_type": "markdown",
   "metadata": {},
   "source": [
    "Match $\\nu$ at the surface, using Schwarzshild vacuum solution:"
   ]
  },
  {
   "cell_type": "code",
   "execution_count": 13,
   "metadata": {
    "collapsed": false
   },
   "outputs": [],
   "source": [
    "# arbitrary nu at the surface\n",
    "nu_s_old = y[idxlast][2]\n",
    "\n",
    "# correct nu at the surface\n",
    "nu_s = np.log(1.0-2.0*Mass/Radius)\n",
    "\n",
    "# shift nu inside star by difference\n",
    "values[:, 5] = values[:, 5] + (-nu_s_old + nu_s)"
   ]
  },
  {
   "cell_type": "markdown",
   "metadata": {
    "collapsed": false
   },
   "source": [
    "Compute baryon mass and alternative expression for gravitational mass:"
   ]
  },
  {
   "cell_type": "code",
   "execution_count": 14,
   "metadata": {
    "collapsed": false
   },
   "outputs": [],
   "source": [
    "# construct radius array and integrands for baryon and alternative mass integration\n",
    "\n",
    "rint = np.zeros(idxlast+1)\n",
    "m0int = np.zeros(idxlast+1)\n",
    "mint_alt = np.zeros(idxlast+1)\n",
    "\n",
    "# fill radius array and integrands \n",
    "\n",
    "for i in range(0,idxlast+1): \n",
    "    rint[i] = values[i][0]\n",
    "    m0int[i] = 4.0*np.pi*pow(rint[i],2.0)*np.exp(values[i][6]/2.0)*values[i][1]\n",
    "    mint_alt[i] = 4.0*np.pi*pow(rint[i],2.0)*np.exp((values[i][5]+values[i][6])/2.0) \\\n",
    "                  *(values[i][2]+3.0*values[i][3])\n",
    "\n",
    "# integrate using Simpson's method\n",
    "M0_last = integrate.simps( m0int, dx=dr)\n",
    "M_alt_last = integrate.simps( mint_alt, dx=dr, even='last')\n",
    "\n",
    "# correct M0 and M_alt by adding last trapezoid\n",
    "M0 = M0_last + 0.5*4.0*np.pi*R_last**2*np.exp(values[idxlast][6]/2.0) \\\n",
    "                      *values[idxlast][1]*(Radius-R_last)\n",
    "\n",
    "M_alt = M_alt_last + 0.5*4.0*np.pi*R_last**2* np.exp((values[idxlast][5]\n",
    "                            +values[idxlast][6])/2.0)*(values[idxlast][2] \\\n",
    "                                +3.0*values[idxlast][3]) *(Radius-R_last)\n",
    "\n",
    "# compute relative difference between mass and alt. mass\n",
    "M_reldiff = (Mass-M_alt)/Mass\n"
   ]
  },
  {
   "cell_type": "markdown",
   "metadata": {},
   "source": [
    "# Main results"
   ]
  },
  {
   "cell_type": "code",
   "execution_count": 15,
   "metadata": {
    "collapsed": false,
    "scrolled": true
   },
   "outputs": [
    {
     "name": "stdout",
     "output_type": "stream",
     "text": [
      "Number of grid points = 11178\n",
      "Gamma = 2.0\n",
      "K = 100.0\n",
      "rho_c = 0.0012801273872430391\n",
      "epsilon_c = 0.001444\n",
      "P_c = 0.000163872612756969\n",
      "dr = 0.000857567061677\n",
      "Radius of last grid point = 9.58502704837\n",
      "Extrapolated Radius at zero pressure = 9.5854292764910038\n",
      "Baryon Mass = 1.50623413665\n",
      "Gravitational Mass = 1.4002084369046766\n",
      "Alternative Mass = 1.40022056296\n",
      "Rel. diff. in Mass = -8.66017700379e-06\n"
     ]
    }
   ],
   "source": [
    "N_gridpoints = idxlast+1\n",
    "\n",
    "print('Number of grid points =', N_gridpoints)\n",
    "print('Gamma =', Gamma)\n",
    "print('K =', K)\n",
    "print('rho_c =', pow(P_c/K,1/Gamma))\n",
    "print('epsilon_c =', eps_c)\n",
    "print('P_c =', P_c)\n",
    "print('dr =', dr)\n",
    "print('Radius of last grid point =', R_last)\n",
    "print('Extrapolated Radius at zero pressure =', '%.16f'% Radius)\n",
    "print('Baryon Mass =', M0)\n",
    "print('Gravitational Mass =', '%.16f'% Mass)\n",
    "print('Alternative Mass =', M_alt)\n",
    "print('Rel. diff. in Mass =', M_reldiff)"
   ]
  },
  {
   "cell_type": "markdown",
   "metadata": {},
   "source": [
    "# Figures"
   ]
  },
  {
   "cell_type": "code",
   "execution_count": 16,
   "metadata": {
    "collapsed": false
   },
   "outputs": [
    {
     "data": {
      "image/png": "[encoded data removed]",
      "text/plain": [
       "<matplotlib.figure.Figure at 0x1103d4c50>"
      ]
     },
     "metadata": {},
     "output_type": "display_data"
    }
   ],
   "source": [
    "fig = plt.figure(figsize=(10, 6))\n",
    "ax1 = plt.subplot2grid((3, 5), (0, 0), colspan=2)\n",
    "ax2 = plt.subplot2grid((3, 5), (1, 0), colspan=2)\n",
    "ax3 = plt.subplot2grid((3, 5), (2, 0), colspan=2)\n",
    "ax4 = plt.subplot2grid((3, 5), (0, 3), colspan=2)\n",
    "ax5 = plt.subplot2grid((3, 5), (1, 3), colspan=2)\n",
    "ax6 = plt.subplot2grid((3, 5), (2, 3), colspan=2)\n",
    "\n",
    "ax1.plot(values[:, 0], values[:, 3], 'r')\n",
    "ax1.set_ylabel('$P$', fontsize=14)\n",
    "ax1.set_xlim((0,R_last))\n",
    "\n",
    "ax2.plot(values[:, 0], values[:, 2], 'r')\n",
    "ax2.set_ylabel('$\\epsilon$', fontsize=14)\n",
    "ax2.set_xlim((0, R_last));\n",
    "\n",
    "ax3.plot(values[:, 0], values[:, 8], 'm')\n",
    "ax3.set_xlabel('$r$', fontsize=14)\n",
    "ax3.set_ylabel('$(\\epsilon+P)^{-1}dP/dr$', fontsize=14)\n",
    "ax3.set_xlim((0, R_last));\n",
    "\n",
    "ax4.plot(values[:, 0], values[:, 5], 'b')\n",
    "ax4.set_ylabel('v', fontsize=14)\n",
    "ax4.set_xlim((0, R_last))\n",
    "\n",
    "ax5.plot(values[:, 0], values[:, 6], 'b')\n",
    "ax5.set_ylabel('$\\lambda$', fontsize=14)\n",
    "ax5.set_xlim((0, R_last));\n",
    "\n",
    "ax6.plot(values[:, 0], values[:, 4], 'c')\n",
    "ax6.set_ylabel('$m$', fontsize=14)\n",
    "ax6.set_xlim((0, R_last));\n",
    "ax6.set_xlabel('$r$', fontsize=14)\n",
    "\n",
    "plt.show()"
   ]
  },
  {
   "cell_type": "markdown",
   "metadata": {},
   "source": [
    "# Convert to CGS"
   ]
  },
  {
   "cell_type": "code",
   "execution_count": 17,
   "metadata": {
    "collapsed": false
   },
   "outputs": [
    {
     "name": "stdout",
     "output_type": "stream",
     "text": [
      "Number of grid points = 11178\n",
      "Gamma = 2.0\n",
      "K = 145604.64238088496\n",
      "rho_c = 790154924825408.5\n",
      "epsilon_c/c^2 = 891304820768800.5\n",
      "epsilon_c = 8.010516876831778e+35\n",
      "P_c = 9.090750208727276e+34\n",
      "dr = 126.665983278\n",
      "Radius of last grid point = 1415745.6951\n",
      "Extrapolated Radius at zero pressure = 1415805.1057502609\n",
      "Baryon Mass = 2.9958996978e+33\n",
      "Gravitational Mass = 2.785014581e+33\n",
      "Alternative Mass = 2.78503869972e+33\n",
      "Rel. diff. in Mass = -8.66017700379e-06\n"
     ]
    }
   ],
   "source": [
    "c=2.9979e10\n",
    "G=6.67408e-8\n",
    "Msun=1.989e33\n",
    "Length = G*Msun/c**2\n",
    "Time = Length/c\n",
    "Density = Msun/Length**3\n",
    "dr_CGS = dr*Length\n",
    "K_CGS = K * c**2 * pow(Length**3/Msun, Gamma-1)\n",
    "print('Number of grid points =', N_gridpoints)\n",
    "print('Gamma =', Gamma)\n",
    "print('K =', K_CGS)\n",
    "print('rho_c =', pow(P_c/K,1/Gamma)*Density)\n",
    "print('epsilon_c/c^2 =', eps_c*Density)\n",
    "print('epsilon_c =', eps_c*Density*c**2)\n",
    "print('P_c =', P_c*Density*c**2)\n",
    "print('dr =', dr_CGS)\n",
    "print('Radius of last grid point =', R_last*Length)\n",
    "print('Extrapolated Radius at zero pressure =', Radius*Length)\n",
    "print('Baryon Mass =', M0*Msun)\n",
    "print('Gravitational Mass =', Mass*Msun)\n",
    "print('Alternative Mass =', M_alt*Msun)\n",
    "print('Rel. diff. in Mass =', M_reldiff)"
   ]
  },
  {
   "cell_type": "code",
   "execution_count": 18,
   "metadata": {
    "collapsed": true
   },
   "outputs": [],
   "source": [
    "values_CGS = np.zeros((idxlast+1, 9)) \n",
    "\n",
    "values_CGS[:, 0] = values[:, 0] * Length\n",
    "values_CGS[:, 1] = values[:, 1] * Density  # rho\n",
    "values_CGS[:, 2] = values[:, 2] * Density*c**2  # epsilon\n",
    "values_CGS[:, 3] = values[:, 3] * Density*c**2  # P\n",
    "values_CGS[:, 4] = values[:, 4] * Msun  # m\n",
    "values_CGS[:, 5] = values[:, 5]         # nu\n",
    "values_CGS[:, 6] = values[:, 6]         # lambda\n",
    "values_CGS[:, 7] = values[:, 7] * c**2  # h\n",
    "values_CGS[:, 8] = values[:, 8] / Length   # (epsilon+P)^{-1} dP/dr"
   ]
  },
  {
   "cell_type": "markdown",
   "metadata": {},
   "source": [
    "# Write output files"
   ]
  },
  {
   "cell_type": "code",
   "execution_count": 19,
   "metadata": {
    "collapsed": false
   },
   "outputs": [],
   "source": [
    "np.savetxt('TOV_output.dat', values)\n",
    "np.savetxt('TOV_output_CGS.dat', values_CGS)"
   ]
  },
  {
   "cell_type": "markdown",
   "metadata": {},
   "source": [
    "# Convergence study"
   ]
  },
  {
   "cell_type": "markdown",
   "metadata": {},
   "source": [
    "Using 11 different grid sizes (doubling the number of points each time), one can show the 4th-order convergence of the code to machine accuracy. Notice that the order of covergence is basically set by the Taylor expansion at the center, since the Runge-Kutta integration that follows up to the surface is a highly-accurate, adaptive step-size method. The mass contained between the last grid point with positive pressure and the true radius where the pressure vanishes is added by a trapezoidal rule, but this does not influence significantly the order of convergence (but using the cubic Hermite interpolation to locate the true radius is critical for maintaining an overall 4th-order of convergence). "
   ]
  },
  {
   "cell_type": "code",
   "execution_count": 20,
   "metadata": {
    "collapsed": false
   },
   "outputs": [],
   "source": [
    "#different number of grid points used\n",
    "Npoints = (51, 101, 201, 401, 801, 1601,  3201, 6401, 12801, 25601, 51201) \n",
    "\n",
    "#corresponding radii\n",
    "Rpoints = (9.5856078811896612, 9.5854362495120196, 9.5854295071567517, \n",
    "           9.5854293025063289, 9.5854292773890855, 9.5854292765629605, \n",
    "           9.5854292764823121, 9.5854292764841311, 9.5854292764900038, \n",
    "           9.5854292764910038, 9.5854292764934073)\n",
    "\n",
    "#corresponding masses\n",
    "Mpoints = (1.4001068618325290, 1.4002041973306332, 1.4002083439839288, \n",
    "           1.4002084210000705, 1.4002084365940546, 1.4002084368655729, \n",
    "           1.4002084369184078, 1.4002084369019683, 1.4002084369033669, \n",
    "           1.4002084369046766, 1.4002084369042820)\n"
   ]
  },
  {
   "cell_type": "code",
   "execution_count": 21,
   "metadata": {
    "collapsed": false
   },
   "outputs": [],
   "source": [
    "Nconv = 10\n",
    "Ndiffpoints = np.zeros(Nconv)\n",
    "Mdiffpoints = np.zeros(Nconv)\n",
    "Rdiffpoints = np.zeros(Nconv)\n",
    "Mdiffpoints_abs = np.zeros(Nconv)\n",
    "Rdiffpoints_abs = np.zeros(Nconv)\n",
    "\n",
    "for i in range(0,Nconv):\n",
    "    Ndiffpoints[i] = Npoints[i]\n",
    "    Mdiffpoints[i] = (Mpoints[Nconv]-Mpoints[i])/Mpoints[Nconv]\n",
    "    Rdiffpoints[i] = (Rpoints[Nconv]-Rpoints[i])/Rpoints[Nconv]\n",
    "    Mdiffpoints_abs[i] = np.abs(Mpoints[Nconv]-Mpoints[i])/Mpoints[Nconv]\n",
    "    Rdiffpoints_abs[i] = np.abs(Rpoints[Nconv]-Rpoints[i])/Rpoints[Nconv]\n"
   ]
  },
  {
   "cell_type": "code",
   "execution_count": 22,
   "metadata": {
    "collapsed": false
   },
   "outputs": [
    {
     "data": {
      "text/plain": [
       "array([ -1.86329366e-05,  -7.27460233e-07,  -2.40639556e-08,\n",
       "        -2.71379829e-09,  -9.34416365e-11,  -7.25614368e-12,\n",
       "         1.15749900e-12,   9.67732915e-13,   3.55070139e-13,\n",
       "         2.50735855e-13])"
      ]
     },
     "metadata": {},
     "output_type": "display_data"
    },
    {
     "data": {
      "text/plain": [
       "array([  7.25428223e-05,   3.02781610e-06,   6.63618007e-08,\n",
       "         1.13584600e-08,   2.21558013e-10,   2.76451955e-11,\n",
       "        -1.00883635e-11,   1.65240026e-12,   6.53506859e-13,\n",
       "        -2.81796090e-13])"
      ]
     },
     "metadata": {},
     "output_type": "display_data"
    }
   ],
   "source": [
    "display(Rdiffpoints)\n",
    "display(Mdiffpoints)"
   ]
  },
  {
   "cell_type": "code",
   "execution_count": 23,
   "metadata": {
    "collapsed": false
   },
   "outputs": [
    {
     "data": {
      "image/png": "[encoded data removed]",
      "text/plain": [
       "<matplotlib.figure.Figure at 0x110396b70>"
      ]
     },
     "metadata": {},
     "output_type": "display_data"
    }
   ],
   "source": [
    "fig = plt.figure(figsize=(10, 6))\n",
    "ax1 = plt.subplot2grid((2, 5), (0, 0), colspan=2)\n",
    "ax2 = plt.subplot2grid((2, 5), (1, 0), colspan=2)\n",
    "ax3 = plt.subplot2grid((2, 5), (0, 3), colspan=2)\n",
    "ax4 = plt.subplot2grid((2, 5), (1, 3), colspan=2)\n",
    "\n",
    "ax1.plot(Npoints, Mpoints, 'b')\n",
    "ax1.set_xscale(\"log\")\n",
    "ax1.set_ylabel('$M$', fontsize=14)\n",
    "ax1.set_xlim((0,Npoints[Nconv-1]))\n",
    "\n",
    "ax2.plot(Npoints, Rpoints, 'b')\n",
    "ax2.set_xscale(\"log\")\n",
    "ax2.set_ylabel('$R$', fontsize=14)\n",
    "ax2.set_xlim((0,Npoints[Nconv-1]))\n",
    "ax2.set_xlabel('$N$', fontsize=14)\n",
    "\n",
    "ax3.plot(Ndiffpoints, Mdiffpoints_abs, 'r')\n",
    "ax3.set_xscale(\"log\")\n",
    "ax3.set_yscale(\"log\")\n",
    "ax3.set_ylabel('$\\Delta M / M$', fontsize=14)\n",
    "ax3.set_xlim((0,Npoints[Nconv-1]))\n",
    "\n",
    "ax4.plot(Ndiffpoints, Rdiffpoints_abs, 'r')\n",
    "ax4.set_xscale(\"log\")\n",
    "ax4.set_yscale(\"log\")\n",
    "ax4.set_ylabel('$\\Delta R / R$', fontsize=14)\n",
    "ax4.set_xlim((0,Npoints[Nconv-1]))\n",
    "ax4.set_xlabel('$N$', fontsize=14)\n",
    "\n",
    "plt.show()"
   ]
  },
  {
   "cell_type": "markdown",
   "metadata": {},
   "source": [
    "Average convergence order:"
   ]
  },
  {
   "cell_type": "code",
   "execution_count": 24,
   "metadata": {
    "collapsed": false
   },
   "outputs": [
    {
     "data": {
      "text/plain": [
       "-4.2884046348423377"
      ]
     },
     "execution_count": 24,
     "metadata": {},
     "output_type": "execute_result"
    }
   ],
   "source": [
    "( np.log10(Mdiffpoints_abs[5])-np.log10(Mdiffpoints_abs[0]))/( np.log10(Ndiffpoints[5])\n",
    "                                                      - np.log10(Ndiffpoints[0]))"
   ]
  },
  {
   "cell_type": "code",
   "execution_count": 25,
   "metadata": {
    "collapsed": false
   },
   "outputs": [
    {
     "data": {
      "text/plain": [
       "-4.282125094503952"
      ]
     },
     "execution_count": 25,
     "metadata": {},
     "output_type": "execute_result"
    }
   ],
   "source": [
    "( np.log10(Rdiffpoints_abs[5])-np.log10(Rdiffpoints_abs[0]))/( np.log10(Ndiffpoints[5])\n",
    "                                                      - np.log10(Ndiffpoints[0]))"
   ]
  },
  {
   "cell_type": "code",
   "execution_count": 26,
   "metadata": {
    "collapsed": false
   },
   "outputs": [
    {
     "data": {
      "text/plain": [
       "4.552946716872813"
      ]
     },
     "execution_count": 26,
     "metadata": {},
     "output_type": "execute_result"
    }
   ],
   "source": [
    "np.log2( (Mpoints[1]- Mpoints[0] )/( Mpoints[2] - Mpoints[1]))"
   ]
  },
  {
   "cell_type": "code",
   "execution_count": 27,
   "metadata": {
    "collapsed": false
   },
   "outputs": [
    {
     "data": {
      "text/plain": [
       "4.6699193941600026"
      ]
     },
     "execution_count": 27,
     "metadata": {},
     "output_type": "execute_result"
    }
   ],
   "source": [
    "np.log2( (Rpoints[1]- Rpoints[0] )/( Rpoints[2] - Rpoints[1]))"
   ]
  }
 ],
 "metadata": {
  "kernelspec": {
   "display_name": "Python 3",
   "language": "python",
   "name": "python3"
  },
  "language_info": {
   "codemirror_mode": {
    "name": "ipython",
    "version": 3
   },
   "file_extension": ".py",
   "mimetype": "text/x-python",
   "name": "python",
   "nbconvert_exporter": "python",
   "pygments_lexer": "ipython3",
   "version": "3.5.5"
  },
  "latex_envs": {
   "LaTeX_envs_menu_present": true,
   "autoclose": false,
   "autocomplete": true,
   "bibliofile": "biblio.bib",
   "cite_by": "apalike",
   "current_citInitial": 1,
   "eqLabelWithNumbers": true,
   "eqNumInitial": 1,
   "hotkeys": {
    "equation": "Ctrl-E",
    "itemize": "Ctrl-I"
   },
   "labels_anchors": false,
   "latex_user_defs": false,
   "report_style_numbering": false,
   "user_envs_cfg": false
  },
  "toc": {
   "nav_menu": {},
   "number_sections": true,
   "sideBar": true,
   "skip_h1_title": false,
   "title_cell": "Table of Contents",
   "title_sidebar": "Contents",
   "toc_cell": false,
   "toc_position": {},
   "toc_section_display": true,
   "toc_window_display": false
  },
  "varInspector": {
   "cols": {
    "lenName": 16,
    "lenType": 16,
    "lenVar": 40
   },
   "kernels_config": {
    "python": {
     "delete_cmd_postfix": "",
     "delete_cmd_prefix": "del ",
     "library": "var_list.py",
     "varRefreshCmd": "print(var_dic_list())"
    },
    "r": {
     "delete_cmd_postfix": ") ",
     "delete_cmd_prefix": "rm(",
     "library": "var_list.r",
     "varRefreshCmd": "cat(var_dic_list()) "
    }
   },
   "types_to_exclude": [
    "module",
    "function",
    "builtin_function_or_method",
    "instance",
    "_Feature"
   ],
   "window_display": false
  }
 },
 "nbformat": 4,
 "nbformat_minor": 0
}
